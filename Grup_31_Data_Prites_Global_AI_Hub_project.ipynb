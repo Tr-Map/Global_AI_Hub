{
 "cells": [
  {
   "cell_type": "code",
   "execution_count": 45,
   "id": "9ebf6f1e",
   "metadata": {},
   "outputs": [],
   "source": [
    "# Importing models and packages\n",
    "\n",
    "import matplotlib.pyplot as plt\n",
    "import pandas as pd\n",
    "import numpy as np\n",
    "import librosa\n",
    "import cv2\n",
    "import os.path\n",
    "import os\n",
    "from PIL import Image as im\n",
    "from glob import glob\n",
    "import csv\n",
    "import unicodedata\n",
    "from self import self\n",
    "import wave\n",
    "from scipy.io.wavfile import read\n",
    "import librosa.display\n",
    "import PIL\n",
    "from tensorflow import keras\n",
    "import tensorflow as tf"
   ]
  },
  {
   "cell_type": "code",
   "execution_count": 2,
   "id": "78782ba5",
   "metadata": {},
   "outputs": [],
   "source": [
    "def create_spectrogram(audio_name):\n",
    "    hop_length = 512\n",
    "    window_size = 1024\n",
    "\n",
    "    y, sr = librosa.load(audio_name)\n",
    "    window = np.hanning(window_size)\n",
    "    out  = librosa.core.spectrum.stft(y, \n",
    "                                      n_fft = window_size, \n",
    "                                      hop_length = hop_length, \n",
    "                                      window = window)\n",
    "    out = 2 * np.abs(out) / np.sum(window)\n",
    "    spec_conv = librosa.amplitude_to_db(out, \n",
    "                                        ref = np.max)\n",
    "    return spec_conv"
   ]
  },
  {
   "cell_type": "code",
   "execution_count": 3,
   "id": "ae5c197f",
   "metadata": {},
   "outputs": [],
   "source": [
    "folder_1 = \"C:/Users/User/Desktop/UrbanSound8K/UrbanSound8K/audio/fold1\"\n",
    "folder_2 = \"C:/Users/User/Desktop/UrbanSound8K/UrbanSound8K/audio/fold2\"\n",
    "folder_3 = \"C:/Users/User/Desktop/UrbanSound8K/UrbanSound8K/audio/fold3\"\n",
    "folder_4 = \"C:/Users/User/Desktop/UrbanSound8K/UrbanSound8K/audio/fold4\"\n",
    "folder_5 = \"C:/Users/User/Desktop/UrbanSound8K/UrbanSound8K/audio/fold5\"\n",
    "folder_6 = \"C:/Users/User/Desktop/UrbanSound8K/UrbanSound8K/audio/fold6\"\n",
    "folder_7 = \"C:/Users/User/Desktop/UrbanSound8K/UrbanSound8K/audio/fold7\"\n",
    "folder_8= \"C:/Users/User/Desktop/UrbanSound8K/UrbanSound8K/audio/fold8\"\n",
    "folder_9 = \"C:/Users/User/Desktop/UrbanSound8K/UrbanSound8K/audio/fold9\"\n",
    "folder_10 = \"C:/Users/User/Desktop/UrbanSound8K/UrbanSound8K/audio/fold10\"\n",
    "\n",
    "dir_list_1 = os.listdir(folder_1)\n",
    "dir_list_2 = os.listdir(folder_2)\n",
    "dir_list_3 = os.listdir(folder_3)\n",
    "dir_list_4 = os.listdir(folder_4)\n",
    "dir_list_5 = os.listdir(folder_5)\n",
    "dir_list_6 = os.listdir(folder_6)\n",
    "dir_list_7 = os.listdir(folder_7)\n",
    "dir_list_8 = os.listdir(folder_8)\n",
    "dir_list_9 = os.listdir(folder_9)\n",
    "dir_list_10 = os.listdir(folder_10)\n",
    "\n",
    "\n",
    "dir_list_new_1 = []\n",
    "dir_list_new_2 = []\n",
    "dir_list_new_3 = []\n",
    "dir_list_new_4 = []\n",
    "dir_list_new_5 = []\n",
    "dir_list_new_6 = []\n",
    "dir_list_new_7 = []\n",
    "dir_list_new_8 = []\n",
    "dir_list_new_9 = []\n",
    "dir_list_new_10 = []\n",
    "\n",
    "\n",
    "for i in dir_list_1[2:874]:\n",
    "    var_1 = \"C:/Users/User/Desktop/UrbanSound8K/UrbanSound8K/audio/fold1/ \"\n",
    "    var_11 = var_1.replace(\" \", i)\n",
    "    dir_list_new_1.append(var_11)\n",
    "\n",
    "for i in dir_list_2[1:889]:\n",
    "    var_2 = \"C:/Users/User/Desktop/UrbanSound8K/UrbanSound8K/audio/fold2/ \"\n",
    "    var_22 = var_2.replace(\" \", i)\n",
    "    dir_list_new_2.append(var_22)\n",
    "\n",
    "for i in dir_list_3[1:926]:\n",
    "    var_3= \"C:/Users/User/Desktop/UrbanSound8K/UrbanSound8K/audio/fold3/ \"\n",
    "    var_33 = var_3.replace(\" \", i)\n",
    "    dir_list_new_3.append(var_33)\n",
    "\n",
    "for i in dir_list_4[1:991]:\n",
    "    var_4 = \"C:/Users/User/Desktop/UrbanSound8K/UrbanSound8K/audio/fold4/ \"\n",
    "    var_44 = var_4.replace(\" \", i)\n",
    "    dir_list_new_4.append(var_44)\n",
    "\n",
    "for i in dir_list_5[1:937]:\n",
    "    var_5 = \"C:/Users/User/Desktop/UrbanSound8K/UrbanSound8K/audio/fold5/ \"\n",
    "    var_55 = var_5.replace(\" \", i)\n",
    "    dir_list_new_5.append(var_55)\n",
    "\n",
    "for i in dir_list_6[1:824]:\n",
    "    var_6 = \"C:/Users/User/Desktop/UrbanSound8K/UrbanSound8K/audio/fold6/ \"\n",
    "    var_66 = var_6.replace(\" \", i)\n",
    "    dir_list_new_6.append(var_66)\n",
    "\n",
    "for i in dir_list_7[1:839]:\n",
    "    var_7 = \"C:/Users/User/Desktop/UrbanSound8K/UrbanSound8K/audio/fold7/ \"\n",
    "    var_77 = var_7.replace(\" \", i)\n",
    "    dir_list_new_7.append(var_77)\n",
    "\n",
    "for i in dir_list_8[1:807]:\n",
    "    var_8 = \"C:/Users/User/Desktop/UrbanSound8K/UrbanSound8K/audio/fold8/ \"\n",
    "    var_88 = var_8.replace(\" \", i)\n",
    "    dir_list_new_8.append(var_88)\n",
    "\n",
    "for i in dir_list_9[1:817]:\n",
    "    var_9 = \"C:/Users/User/Desktop/UrbanSound8K/UrbanSound8K/audio/fold9/ \"\n",
    "    var_99 = var_9.replace(\" \", i)\n",
    "    dir_list_new_9.append(var_99)\n",
    "\n",
    "for i in dir_list_10[1:838]:\n",
    "    var_10 = \"C:/Users/User/Desktop/UrbanSound8K/UrbanSound8K/audio/fold10/ \"\n",
    "    var_1010 = var_10.replace(\" \", i)\n",
    "    dir_list_new_10.append(var_1010)\n",
    "\n",
    "dır_list = [dir_list_1[2:874], dir_list_2[1:889], dir_list_3[1:926], dir_list_4[1:991], dir_list_5[1:937], \n",
    "            dir_list_6[1:824], dir_list_7[1:839], dir_list_8[1:807], dir_list_9[1:817], dir_list_10[1:838]]\n",
    "    \n",
    "lists_len = [dir_list_new_1, dir_list_new_2, dir_list_new_3, dir_list_new_4, dir_list_new_5,\n",
    "             dir_list_new_6, dir_list_new_7, dir_list_new_8, dir_list_new_9, dir_list_new_10]\n",
    "\n",
    "lenght = [len(dir_list_new_1), len(dir_list_new_2), len(dir_list_new_3), len(dir_list_new_4), len(dir_list_new_5), \n",
    "         len(dir_list_new_6), len(dir_list_new_7), len(dir_list_new_8), len(dir_list_new_9), len(dir_list_new_10)]\n",
    "\n",
    "\n",
    "\n",
    "img_folder_1 = []\n",
    "img_folder_2 = []\n",
    "img_folder_3 = []\n",
    "img_folder_4 = []\n",
    "img_folder_5 = []\n",
    "img_folder_6 = []\n",
    "img_folder_7 = []\n",
    "img_folder_8 = []\n",
    "img_folder_9 = []\n",
    "img_folder_10 = []\n",
    "\n",
    "img_name = [img_folder_1, img_folder_2, img_folder_3, img_folder_4, img_folder_5, \n",
    "            img_folder_6, img_folder_7, img_folder_8, img_folder_9, img_folder_10]\n",
    "\n",
    "for i in range(len(lists_len)):\n",
    "    for j in range(lenght[i]):\n",
    "        varr = lists_len[i][j]\n",
    "        varr = varr.replace(\".wav\", \".jpeg\") \n",
    "        img_name[i].append(varr)\n",
    "\n",
    "data = pd.read_csv(\"C:/Users/User/Desktop/UrbanSound8K/UrbanSound8K/metadata/UrbanSound8K.csv\")\n",
    "data = data.drop(['fsID','start', 'fold', 'class', 'end', 'salience'], axis = 1)\n",
    "data = data.to_numpy()\n",
    "data_1 = data[:,0:1]\n",
    "data_2 = data[:,1:2]"
   ]
  },
  {
   "cell_type": "code",
   "execution_count": 4,
   "id": "32636039",
   "metadata": {},
   "outputs": [],
   "source": [
    "def save_spect(lists_len, lenght, img_name, dır_list, data_1, data_2):    \n",
    "    for x in range(len(lists_len)):\n",
    "        for y in range(lenght[x]):\n",
    "            img_spec = create_spectrogram(lists_len[x][y])\n",
    "            norm_image = cv2.normalize(img_spec, None, alpha = 0, beta = 255, norm_type = cv2.NORM_MINMAX, dtype = cv2.CV_32F)\n",
    "            norm_image_2 = norm_image / 255\n",
    "            scale_percent = 60 # percent of original size\n",
    "            width = int(norm_image_2.shape[1] * scale_percent / 100)\n",
    "            height = int(norm_image_2.shape[0] * scale_percent / 100)\n",
    "            dim = (width, height)\n",
    "            resized = cv2.resize(norm_image_2, dim, interpolation = cv2.INTER_AREA)\n",
    "            for i in range(len(data_1)):\n",
    "                if dır_list[x][y] == data_1[i]:\n",
    "                    new_data = data_2[i]\n",
    "            img_and_label = [norm_image_2, new_data]\n",
    "            img_and_label.append(img_and_label)\n",
    "            \n",
    "    return img_and_label"
   ]
  },
  {
   "cell_type": "code",
   "execution_count": null,
   "id": "2af6357d",
   "metadata": {},
   "outputs": [],
   "source": [
    "dataset = save_spect(lists_len, lenght, img_name, dır_list, data_1, data_2)"
   ]
  },
  {
   "cell_type": "code",
   "execution_count": null,
   "id": "3da010c2",
   "metadata": {},
   "outputs": [],
   "source": [
    "from sklearn.datasets import fetch_openml\n",
    "from sklearn.model_selection import train_test_split\n",
    "\n",
    "X, y = fetch_openml(dataset ,version = 1, retune_X_y = True, as_frame = False)\n",
    "\n",
    "X_train, X_test, y_train, y_test = train_test_split(X, y, random_state = 0, test_size = 0.33)"
   ]
  },
  {
   "cell_type": "code",
   "execution_count": 48,
   "id": "4646940a",
   "metadata": {},
   "outputs": [
    {
     "data": {
      "text/plain": [
       "(513, 173)"
      ]
     },
     "execution_count": 48,
     "metadata": {},
     "output_type": "execute_result"
    }
   ],
   "source": [
    "np.shape(img_spec)"
   ]
  },
  {
   "cell_type": "code",
   "execution_count": 49,
   "id": "b66c0b3a",
   "metadata": {},
   "outputs": [],
   "source": [
    "model = tf.keras.Sequential()"
   ]
  },
  {
   "cell_type": "code",
   "execution_count": null,
   "id": "856e73e7",
   "metadata": {},
   "outputs": [],
   "source": [
    "model.add(tf.keras.layers.Conv2D(513, \n",
    "                                 kernel_size = (7,7), \n",
    "                                 strides = (2,2), \n",
    "                                 padding = \"same\", \n",
    "                                 activation = \"relu\", \n",
    "                                 input_shape = (513,173)))\n",
    "model.add(tf.keras.layers.MaxPooling2D((2,2)))\n",
    "model.add(tf.keras.layers.Conv2D(1026, \n",
    "                                 kernel_size = (7,7), \n",
    "                                 strides = (2,2), \n",
    "                                 padding = \"same\", \n",
    "                                 activation = \"relu\", \n",
    "                                 input_shape = (513,173)))\n",
    "model.add(tf.keras.layers.MaxPooling2D((2,2)))\n",
    "model.add(tf.keras.layers.Conv2D(1026, \n",
    "                                 kernel_size = (7,7), \n",
    "                                 strides = (2,2), \n",
    "                                 padding = \"same\", \n",
    "                                 activation = \"relu\", \n",
    "                                 input_shape = (513,173)))"
   ]
  },
  {
   "cell_type": "code",
   "execution_count": null,
   "id": "09b2b579",
   "metadata": {},
   "outputs": [],
   "source": [
    "model.add(tf.keras.layers.Flatten())"
   ]
  },
  {
   "cell_type": "code",
   "execution_count": null,
   "id": "4ee41ee8",
   "metadata": {},
   "outputs": [],
   "source": [
    "model.add(tf.keras.layers.Dense(1026, activation = \"relu\"))\n",
    "model.add(tf.keras.layers.Dropout(0.5))\n",
    "\n",
    "model.add(tf.keras.layers.Dense(1026, activation = \"relu\"))\n",
    "model.add(tf.keras.layers.Dropout(0.5))"
   ]
  },
  {
   "cell_type": "code",
   "execution_count": null,
   "id": "b83a4352",
   "metadata": {},
   "outputs": [],
   "source": [
    "# output layer\n",
    "model.add(tf.keras.layers.Dense(10, activation = \"softmax\"))"
   ]
  },
  {
   "cell_type": "code",
   "execution_count": null,
   "id": "891e87ae",
   "metadata": {},
   "outputs": [],
   "source": [
    "model.compile(optimizer = \"adam\",\n",
    "            lose = \"sparse_categorical_crossentropy\",\n",
    "            metrics = [\"accuracy\"])"
   ]
  },
  {
   "cell_type": "code",
   "execution_count": null,
   "id": "97f0e465",
   "metadata": {},
   "outputs": [],
   "source": [
    "results = model.fit(X_train, \n",
    "                    y_train, \n",
    "                    batch_size = 128, \n",
    "                    epochs = 50,\n",
    "                    calidation_Data = (x_val, y_val))"
   ]
  },
  {
   "cell_type": "code",
   "execution_count": null,
   "id": "981a1e8a",
   "metadata": {},
   "outputs": [],
   "source": [
    "plt.plot(results.history[\"Loss\"], label = \"loss\")\n",
    "\n",
    "plt.plot(reult.history[\"val_loss\"], label = \"val_loss\")\n",
    "\n",
    "plt.xlabel(\"Epoch\")\n",
    "plt.ylabel(\"Loss\")\n",
    "\n",
    "plt.legend()\n",
    "\n",
    "plt.show()"
   ]
  },
  {
   "cell_type": "code",
   "execution_count": null,
   "id": "09ebd90f",
   "metadata": {},
   "outputs": [],
   "source": [
    "plt.plot(results.history[\"accuracy\"], label = \"accuracy\")\n",
    "\n",
    "plt.plot(reult.history[\"val_accuracy\"], label = \"val_accuracy\")\n",
    "\n",
    "plt.xlabel(\"Epoch\")\n",
    "plt.ylabel(\"accuracy\")\n",
    "\n",
    "plt.legend()\n",
    "\n",
    "plt.show()"
   ]
  },
  {
   "cell_type": "code",
   "execution_count": null,
   "id": "7129b550",
   "metadata": {},
   "outputs": [],
   "source": [
    "model.evaluate(X_test, y_test)"
   ]
  },
  {
   "cell_type": "code",
   "execution_count": null,
   "id": "50553482",
   "metadata": {},
   "outputs": [],
   "source": [
    "prediction_result = model.predict(X_test.reshape(1,513,513))"
   ]
  },
  {
   "cell_type": "code",
   "execution_count": null,
   "id": "b9c5bb42",
   "metadata": {},
   "outputs": [],
   "source": [
    "prediction_result"
   ]
  }
 ],
 "metadata": {
  "kernelspec": {
   "display_name": "Python 3",
   "language": "python",
   "name": "python3"
  },
  "language_info": {
   "codemirror_mode": {
    "name": "ipython",
    "version": 3
   },
   "file_extension": ".py",
   "mimetype": "text/x-python",
   "name": "python",
   "nbconvert_exporter": "python",
   "pygments_lexer": "ipython3",
   "version": "3.9.12"
  }
 },
 "nbformat": 4,
 "nbformat_minor": 5
}
